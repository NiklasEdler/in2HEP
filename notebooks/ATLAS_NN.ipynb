{
 "cells": [
  {
   "cell_type": "markdown",
   "metadata": {},
   "source": [
    "## 1. $H\\rightarrow b\\bar{b}$ via Machine Learning \n",
    "\n",
    "Machine learning algorithms are one of the ways with which we create Artificial Intelligence. The distinguishing featuere of machine learning compared to usual programming is training. Instead of programming the steps to get to the solution to a problem we program a machine learning algorithm to be trained to learn the steps towards the desired solution. \n",
    "\n",
    "On the ATLAS $H\\rightarrow b\\bar{b}$ analysis, using machine learning allows us to extract information about the correlations between the different kinematic variables to improve discrimination between signal and background. \n",
    "\n",
    "In this exercise you will build and train a Neural Network algorithm to classify $H\\rightarrow b\\bar{b}$ events instead of using sequential cuts. \n",
    "\n",
    "### 1.1 What is a Neural Network?\n",
    "\n",
    "The neural network model is loosely based on the human brain. A Neuron receives a number of input signals, these signals are then processed at the neuron which passes on a new signal (fires) to the next neuron only if a certain condition is met. \n",
    "\n",
    "A neural network is a collection of artificial neurons organised in layers (as shown in the image below) that connect together allowing the neural network to learn complexities and make sophisticated decisions. The artificial neurons work by simple multiplication between the input signals (variables) coming into the node and a set of weights. If the produce of this multiplication is above a certain threshold, the neuron fires! \n",
    "\n",
    "\n",
    "![Neural Network](https://i.stack.imgur.com/OH3gI.png)\n",
    "\n",
    "The neurons must be trained to process the signal appropriately so as to maximise the accuracy in decision making. To understand this, let's go back to the human brain analogy. Say you were teaching your younger sibling how to recognise numbers. You would repeatedly show them pictures of numbers and tell them which one is which. You might test their knowledge by giving them a new image and then seeing whether they recognised what digit it was. You might then praise them for getting it right and correct them if they got it wrong. \n",
    "\n",
    "\n",
    "Neurons are trained in a similar way. To train a neural network to learn how to recognise handwritten digits we would give it thousands of images of labelled handwritten digits. It will pass these images through the network in the form of numbers between 0 and 1, compute the product between these inputs (the image in the form of numbers) and the weights at all neurons. The final product at the end of the  neural network will be used to reach a decision. The training process updates the weights such that the accuracy is maximised. \n",
    "\n",
    "This process is similar to maximisation (or minimisation) problems you may have done in A-Level Maths using differentiation to find the minimum/maximum value of function. \n",
    "\n",
    "All this might sound a bit confusing! Don’t worry it is a lot to take in within a short space of time. Ask your mentors about anything you’re unsure about. \n",
    "\n",
    "We're now going to learn how to build and apply a neural network in Python using the Keras library. \n",
    "\n",
    "\n",
    "### 1.2 Neural Networks in Keras\n",
    "\n",
    "The algorithm for doing the $H\\rightarrow b\\bar{b}$ can be summarised with the following 6 steps:\n",
    "\n",
    "* Import libraries and load data.\n",
    "* Build neural network. \n",
    "* Training Neural Network. \n",
    "* Make decisions about events using the Neural Network. \n",
    "* Calculate sensitivity. \n",
    "\n",
    "\n",
    "### Importing libraries and loading \n",
    "\n",
    "The Keras library is a free open-source tool to quickly and easily develop with neural networks. It does a lot of the heavy lifting for us making it an ideal tool for prototyping. Just like any popular Python library, it is well documented with guides explaining how to use it. These are available here: https://keras.io/\n",
    "\n",
    "In this exercise, your mentors will guide you through a lot of the code that has already been written for you so that you can focus specifically on building the neural network. It is still valuable to understand what is going on so make sure you ask questions! "
   ]
  },
  {
   "cell_type": "code",
   "execution_count": 1,
   "metadata": {},
   "outputs": [
    {
     "name": "stderr",
     "output_type": "stream",
     "text": [
      "/Users/ishankhurana/anaconda3/lib/python3.6/site-packages/matplotlib/cbook/deprecation.py:107: MatplotlibDeprecationWarning: The mpl_toolkits.axes_grid module was deprecated in version 2.1. Use mpl_toolkits.axes_grid1 and mpl_toolkits.axisartist provies the same functionality instead.\n",
      "  warnings.warn(message, mplDeprecation, stacklevel=1)\n",
      "/Users/ishankhurana/anaconda3/lib/python3.6/site-packages/h5py/__init__.py:34: FutureWarning: Conversion of the second argument of issubdtype from `float` to `np.floating` is deprecated. In future, it will be treated as `np.float64 == np.dtype(float).type`.\n",
      "  from ._conv import register_converters as _register_converters\n",
      "Using TensorFlow backend.\n"
     ]
    }
   ],
   "source": [
    "import pandas as pd\n",
    "from copy import deepcopy\n",
    "from ucl_masterclass import *\n",
    "from sklearn.preprocessing import scale\n",
    "from keras.models import Sequential\n",
    "from keras.layers import Dense\n",
    "from keras.models import model_from_yaml\n",
    "from keras.layers import Input, Dense, Dropout, Flatten\n",
    "from keras import backend as K\n",
    "from time import time\n",
    "\n",
    "\n",
    "df_even= pd.read_csv('../data-v1/VHbb_data_2jet_even.csv')\n",
    "df_odd = pd.read_csv('../data-v1/VHbb_data_2jet_odd.csv')\n",
    "\n"
   ]
  },
  {
   "cell_type": "markdown",
   "metadata": {},
   "source": [
    "### Training \n",
    "\n",
    "You may have wondered why the above data is loaded into two data frames labelled odd and even. We do this to avoid *overtraining*. But before we go into that, let's cover the basics of training. \n",
    "\n",
    "The neural network is given a set of training events that have a Class label of 1 for signal and 0 for background. During the training phase, the neural network goal is to *learn* how to map input variables given to it (kinematic and topological quantities of the event) to 0 for background and 1 for signal. \n",
    "\n",
    "To ensure that the neural network is learning general features about the signal and background process and not just **artifacts** unique to the training data set, we split the data set into a training and validation set. Two neural network are trained with one being trained on *even* events and tested on *odd* events and the other being trained on *odd* events and tested on *even* events.\n",
    "\n",
    "**In the section below we extract the input (x) and target values (y) used to train the neural network.**"
   ]
  },
  {
   "cell_type": "code",
   "execution_count": 2,
   "metadata": {
    "collapsed": true
   },
   "outputs": [],
   "source": [
    "# List of variables used in training\n",
    "\n",
    "variables = ['dRBB','mBB','MET','Mtop','pTV',]\n",
    "\n",
    "# Even events\n",
    "\n",
    "x_even = scale(df_even[variables].as_matrix())\n",
    "y_even = df_even['Class'].as_matrix()\n",
    "w_even = df_even['training_weight'].as_matrix()\n",
    "\n",
    "# Odd events\n",
    "\n",
    "x_odd = scale(df_odd[variables].as_matrix())\n",
    "y_odd = df_odd['Class'].as_matrix()\n",
    "w_odd = df_odd['training_weight'].as_matrix()\n"
   ]
  },
  {
   "cell_type": "markdown",
   "metadata": {},
   "source": [
    "### Building a Neural Network\n",
    "\n",
    "To build the neural network we will be using the Keras *Sequential* model. This works by allowing us to add layers into our model using the following line of code which adds a layer with 10 neurons. \n",
    "```python\n",
    "model.add(Dense(units=10,activation='relu')) # adds a layer with 10 neurons. \n",
    "```\n",
    "\n",
    "By sequentially adding layers you can create a fully connected deep neural network within minutes! \n",
    "\n",
    "\n",
    "**Ask your mentor to explain what the following terms are:**\n",
    "* Activiation\n",
    "* Loss\n",
    "* Gradient Descent \n",
    "\n",
    "\n",
    "\n",
    "### Task\n",
    "Earlier you developed an analysis for $H\\rightarrow b\\bar{b}$ using sequential cuts on 'dRBB','mBB','MET','Mtop', and'pTV'. You will now build a neural network to classify the simulated events as signal or background. \n",
    "\n",
    "After discussing neural network architectures with your mentor you will: \n",
    "\n",
    "* In the code cell below, define the architecture for your neural network. \n",
    "* Set the batch size used in training and the number of epochs in training. \n",
    "\n",
    "Once you have done this run the code to start training your neural network. The time taken to train the network will be printed at the end. "
   ]
  },
  {
   "cell_type": "code",
   "execution_count": 7,
   "metadata": {},
   "outputs": [
    {
     "name": "stdout",
     "output_type": "stream",
     "text": [
      "Epoch 1/8\n",
      "59152/59152 [==============================] - 3s 44us/step - loss: 0.6322 - acc: 0.6390\n",
      "Epoch 2/8\n",
      "59152/59152 [==============================] - 2s 35us/step - loss: 0.4995 - acc: 0.7648\n",
      "Epoch 3/8\n",
      "59152/59152 [==============================] - 2s 38us/step - loss: 0.3694 - acc: 0.8558\n",
      "Epoch 4/8\n",
      "59152/59152 [==============================] - 2s 40us/step - loss: 0.3526 - acc: 0.8638\n",
      "Epoch 5/8\n",
      "59152/59152 [==============================] - 2s 41us/step - loss: 0.3436 - acc: 0.8696\n",
      "Epoch 6/8\n",
      "59152/59152 [==============================] - 2s 36us/step - loss: 0.3391 - acc: 0.8731\n",
      "Epoch 7/8\n",
      "59152/59152 [==============================] - 3s 43us/step - loss: 0.3346 - acc: 0.8754\n",
      "Epoch 8/8\n",
      "59152/59152 [==============================] - 2s 35us/step - loss: 0.3332 - acc: 0.8749\n",
      "Epoch 1/8\n",
      "58732/58732 [==============================] - 2s 42us/step - loss: 0.4938 - acc: 0.7630\n",
      "Epoch 2/8\n",
      "58732/58732 [==============================] - 2s 37us/step - loss: 0.3857 - acc: 0.8360\n",
      "Epoch 3/8\n",
      "58732/58732 [==============================] - 2s 37us/step - loss: 0.3605 - acc: 0.8570\n",
      "Epoch 4/8\n",
      "58732/58732 [==============================] - 2s 34us/step - loss: 0.3531 - acc: 0.8619\n",
      "Epoch 5/8\n",
      "58732/58732 [==============================] - 2s 35us/step - loss: 0.3477 - acc: 0.8653\n",
      "Epoch 6/8\n",
      "58732/58732 [==============================] - 2s 34us/step - loss: 0.3433 - acc: 0.8674\n",
      "Epoch 7/8\n",
      "58732/58732 [==============================] - 2s 38us/step - loss: 0.3386 - acc: 0.8704\n",
      "Epoch 8/8\n",
      "58732/58732 [==============================] - 2s 41us/step - loss: 0.3338 - acc: 0.8724\n",
      "model trained in 36.65s\n"
     ]
    }
   ],
   "source": [
    "start = time()\n",
    "num_variables = len(variables)\n",
    "\n",
    "# Define architecture \n",
    "def classifier():\n",
    "    \"\"\"\n",
    "    Creates a model for higgs to bb classification\n",
    "    \n",
    "    returns: Keras model\n",
    "    \"\"\"\n",
    "    \n",
    "    model = Sequential()\n",
    "    # The input layer\n",
    "    model.add(Dense(units=num_variables,input_dim = num_variables,activation='relu'))\n",
    "\n",
    "    # Add hidden layers here\n",
    "    \n",
    "    \n",
    "    \n",
    "    # Output layer\n",
    "    model.add(Dense(1,activation='sigmoid'))\n",
    "    model.compile(loss='binary_crossentropy', optimizer='SGD', metrics=['accuracy'])\n",
    "    return model\n",
    "\n",
    "\n",
    "# Create and compile models\n",
    "\n",
    "model_even = classifier()\n",
    "model_odd = classifier()\n",
    "\n",
    "# Set these parameters\n",
    "epochs = \n",
    "batchSize =  \n",
    "\n",
    "# train\n",
    "model_even.fit(x_even,y_even,sample_weight = w_even, epochs=epochs, batch_size=batchSize,verbose = 1)\n",
    "model_odd.fit(x_odd,y_odd,sample_weight = w_odd, epochs=epochs, batch_size=batchSize,verbose = 1)\n",
    "\n",
    "print(\"model trained in \" + str(round(time()-start,2))+\"s\")"
   ]
  },
  {
   "cell_type": "markdown",
   "metadata": {},
   "source": [
    "### Evaluating our Neural Network\n",
    "\n",
    "The code below will now test your neural networks on unseen events. Remember if a neural network was trained on the odd data set and hence it will be tested on the even data set. The neural network is used to classify the events and calculate the sensitivity using the neural network scores plotted in the histogram below.\n",
    "\n"
   ]
  },
  {
   "cell_type": "code",
   "execution_count": 8,
   "metadata": {},
   "outputs": [
    {
     "name": "stdout",
     "output_type": "stream",
     "text": [
      "TrafoD 21\n"
     ]
    },
    {
     "name": "stderr",
     "output_type": "stream",
     "text": [
      "/Users/ishankhurana/Documents/hackingEducation/in2HEP/notebooks/ucl_masterclass.py:622: RuntimeWarning: invalid value encountered in double_scalars\n",
      "  this_sens = 2 * ((s + b) * math.log(1 + s / b) - s) #calcs sensivity for each bin\n",
      "/Users/ishankhurana/Documents/hackingEducation/in2HEP/notebooks/ucl_masterclass.py:623: RuntimeWarning: invalid value encountered in double_scalars\n",
      "  this_dsens_ds = 2 * math.log(1 + s/b)\n",
      "/Users/ishankhurana/Documents/hackingEducation/in2HEP/notebooks/ucl_masterclass.py:624: RuntimeWarning: invalid value encountered in double_scalars\n",
      "  this_dsens_db = 2 * (math.log(1 + s/b) - s/b)\n"
     ]
    },
    {
     "name": "stdout",
     "output_type": "stream",
     "text": [
      "A sensitivity of 2.13 was achieved\n"
     ]
    },
    {
     "name": "stderr",
     "output_type": "stream",
     "text": [
      "/Users/ishankhurana/anaconda3/lib/python3.6/site-packages/matplotlib/axes/_base.py:3449: UserWarning: Attempted to set non-positive ylimits for log-scale axis; invalid limits will be ignored.\n",
      "  'Attempted to set non-positive ylimits for log-scale axis; '\n",
      "/Users/ishankhurana/anaconda3/lib/python3.6/site-packages/matplotlib/text.py:2096: UserWarning: You have used the `textcoords` kwarg, but not the `xytext` kwarg.  This can lead to surprising results.\n",
      "  warnings.warn(\"You have used the `textcoords` kwarg, but not \"\n"
     ]
    },
    {
     "data": {
      "image/png": "iVBORw0KGgoAAAANSUhEUgAAAiwAAAHCCAYAAADM0ZKGAAAABHNCSVQICAgIfAhkiAAAAAlwSFlz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\nAABJRU5ErkJggg==\n",
      "text/plain": [
       "<Figure size 612x504 with 1 Axes>"
      ]
     },
     "metadata": {},
     "output_type": "display_data"
    },
    {
     "data": {
      "text/plain": [
       "(<Figure size 612x504 with 1 Axes>,\n",
       " <matplotlib.axes._subplots.AxesSubplot at 0x11f992908>)"
      ]
     },
     "execution_count": 8,
     "metadata": {},
     "output_type": "execute_result"
    }
   ],
   "source": [
    "df_odd['decision_value'] = model_even.predict_proba(x_odd)\n",
    "df_even['decision_value'] = model_odd.predict_proba(x_even)\n",
    "df = pd.concat([df_odd,df_even])\n",
    "print(\"A sensitivity of\", round(sensitivity_NN(df)[0],2),'was achieved')\n",
    "nn_output_plot(df)\n"
   ]
  },
  {
   "cell_type": "markdown",
   "metadata": {},
   "source": [
    "### Exercises:\n",
    "\n",
    "* Build and evaluate a neural network with 3 'hidden' layers.\n",
    "* Vary the number of epochs and the batch_size. \n",
    "\n",
    "Note down the sensitivity achieved and the time taken in training.\n",
    "\n",
    "\n",
    "### Challenge\n",
    "In your groups, you will now prototype your own neural network architecture. At the end of the event judges will be aa prize for the group with best neural network based on the following criteria: \n",
    "* Sensitivity achieved.\n",
    "* Time taken in training. \n",
    "* Elegance of architecture. (used in tie break situations) \n",
    "\n",
    "You can change any of the parameters in the function above. "
   ]
  },
  {
   "cell_type": "code",
   "execution_count": null,
   "metadata": {
    "collapsed": true
   },
   "outputs": [],
   "source": [
    "start = time()\n",
    "num_variables = len(variables)\n",
    "\n",
    "# Define architecture \n",
    "def classifier():\n",
    "    \"\"\"\n",
    "    Creates a model for higgs to bb classification\n",
    "    \n",
    "    returns: Keras model\n",
    "    \"\"\"\n",
    "    \n",
    "    model = Sequential()\n",
    "    model.add(Dense(units=num_variables,activation='relu'))\n",
    "\n",
    "\n",
    "    \n",
    "    \n",
    "    \n",
    "    \n",
    "    model.add(Dense(1,activation='sigmoid'))\n",
    "    model.compile(loss='binary_crossentropy', optimizer='SGD', metrics=['accuracy'])\n",
    "    return model\n",
    "\n",
    "\n",
    "# Create and compile models\n",
    "\n",
    "model_even = classifier()\n",
    "model_odd = classifier()\n",
    "\n",
    "# Set these parameters\n",
    "epochs = \n",
    "batchSize = \n",
    "\n",
    "# train\n",
    "model_even.fit(x_even,y_even,sample_weight = w_even, epochs=epochs, batch_size=batchSize,verbose = 1)\n",
    "model_odd.fit(x_odd,y_odd,sample_weight = w_odd, epochs=epochs, batch_size=batchSize,verbose = 1)\n",
    "\n",
    "print(\"model trained in \" + str(round(time()-start,2))+\"s\")"
   ]
  },
  {
   "cell_type": "code",
   "execution_count": null,
   "metadata": {
    "collapsed": true
   },
   "outputs": [],
   "source": [
    "## Evaluation Code\n",
    "df_odd['decision_value'] = model_even.predict_proba(x_odd)\n",
    "df_even['decision_value'] = model_odd.predict_proba(x_even)\n",
    "df = pd.concat([df_odd,df_even])\n",
    "print(\"A sensitivity of\", round(sensitivity_NN(df)[0],2),'was achieved')\n",
    "nn_output_plot(df)\n"
   ]
  },
  {
   "cell_type": "markdown",
   "metadata": {},
   "source": [
    "## Summary \n",
    "\n",
    "Neural Networks can learn correlations between variables and create a better understanding of the classification process hence leading to better signal sensitivity. They have been very popular in industry and regularly win competitions on the Kaggle machine learning forum. If you are interested in doing more machine learning this is a free 'nanodegree' on deep learning: https://www.youtube.com/watch?v=vOppzHpvTiQ&list=PL2-dafEMk2A7YdKv4XfKpfbTH5z6rEEj3\n",
    "\n",
    "**This material was produced by hackingEducation**  \n",
   ]
  },
  {
   "cell_type": "code",
   "execution_count": null,
   "metadata": {
    "collapsed": true
   },
   "outputs": [],
   "source": []
  }
 ],
 "metadata": {
  "kernelspec": {
   "display_name": "Python 3",
   "language": "python",
   "name": "python3"
  },
  "language_info": {
   "codemirror_mode": {
    "name": "ipython",
    "version": 3
   },
   "file_extension": ".py",
   "mimetype": "text/x-python",
   "name": "python",
   "nbconvert_exporter": "python",
   "pygments_lexer": "ipython3",
   "version": "3.6.4"
  }
 },
 "nbformat": 4,
 "nbformat_minor": 2
}
