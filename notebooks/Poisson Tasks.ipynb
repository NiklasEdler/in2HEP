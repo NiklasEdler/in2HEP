{
 "cells": [
  {
   "cell_type": "markdown",
   "metadata": {},
   "source": [
    "## Claiming discovery? \n",
    "\n",
    "** Generate a list of Poisson Distributed variables ** \n",
    "\n",
    "Given a number of observed events, what can we say about the underlying Dark Matter model? \n",
    "\n",
    "We will be creating a list of numbers that are poisson distributed around a given mean. We will store these lists within a list and plot them as a heatmap like the one shown in the image below.\n",
    "\n",
    "![](poisson_plot.png)\n",
    "\n",
    "\n",
    "We will use our distribution of numbers to determine the level of confidence with which we can put limits on the Dark Matter signal. \n",
    "\n",
    "### Exercise 1\n",
    "\n",
    "* Use google to search for a python Poisson Distribution Generator. The function should take a poisson mean as its input and return a variable that is Poisson distributed. "
   ]
  },
  {
   "cell_type": "code",
   "execution_count": 3,
   "metadata": {},
   "outputs": [],
   "source": [
    "import numpy as np\n",
    "import scipy\n",
    "import matplotlib.pyplot as plt\n",
    "import math\n",
    "from scipy.stats import norm\n",
    "import seaborn as sns\n",
    "%matplotlib inline\n"
   ]
  },
  {
   "cell_type": "code",
   "execution_count": 17,
   "metadata": {},
   "outputs": [
    {
     "name": "stdout",
     "output_type": "stream",
     "text": [
      "Well done! Move on to the next section\n"
     ]
    }
   ],
   "source": [
    "seen = []\n",
    "# Set the poisson mean\n",
    "poisson_mean = 0\n",
    "\n",
    "for i in range(10000):\n",
    "    \n",
    "    # Complete the code below to generate a poisson distributed random variable using the function you found.\n",
    "    p = \n",
    "    \n",
    "    # Add number you just generated to the seen list\n",
    "\n",
    "if len(seen)!=10000:\n",
    "    print(\"There is an error in your code\")\n",
    "else:\n",
    "    print(\"Well done! Move on to the next section\")"
   ]
  },
  {
   "cell_type": "markdown",
   "metadata": {},
   "source": [
    "### Plotting the distribution\n",
    "\n",
    "In the code below we will plot the poisson distribution we just generated using a histogram. We will be using the matplotlib library in python. "
   ]
  },
  {
   "cell_type": "code",
   "execution_count": 21,
   "metadata": {},
   "outputs": [
    {
     "data": {
      "image/png": "[encoded data removed]",
      "text/plain": [
       "<Figure size 612x504 with 1 Axes>"
      ]
     },
     "metadata": {},
     "output_type": "display_data"
    }
   ],
   "source": [
    "# Create a figure\n",
    "fig = plt.figure()\n",
    "\n",
    "# Set figure size\n",
    "\n",
    "fig.set_size_inches(8.5,7)\n",
    "\n",
    "# Plot Histogram\n",
    "plt.hist(n_exp,bins=len(list(set(n_exp))),edgecolor = 'k',color='b');\n",
    "\n",
    "# Set the label for the x axis \n",
    "plt.xlabel('') \n",
    "\n",
    "# Set the label for the y axis\n",
    "plt.ylabel('')\n",
    "\n",
    "# Set the plot title \n",
    "plt.title('')"
   ]
  },
  {
   "cell_type": "markdown",
   "metadata": {},
   "source": [
    "### Generating the Heat Map\n",
    "\n",
    "We're now going to repeat the above process for a range of poisson distributed variables.\n"
   ]
  },
  {
   "cell_type": "code",
   "execution_count": 22,
   "metadata": {
    "collapsed": true
   },
   "outputs": [],
   "source": [
    "step_size = \n",
    "minimum_mean = \n",
    "maximum_mean = \n",
    "\n",
    "means = np.arange(minimum_mean,maximum_mean,step_size)\n",
    "\n",
    "\n",
    "# We're now going to loop through the means to create a list of poisson distributions (which are also lists)\n",
    "y_data = []\n",
    "for poisson_mean in means:\n",
    "    seen = []\n",
    "    ## Use the earlier code to populate the seen list with poisson distributed variables\n",
    "    \n",
    "    \n",
    "    ## Add the seen list to the list called y_data\n",
    "    \n",
    "    \n",
    "    \n",
    "df = plot_heatmap(y_data, means)\n"
   ]
  },
  {
   "cell_type": "markdown",
   "metadata": {},
   "source": [
    "## Finding the Signal Upper Limit\n",
    "\n"
   ]
  },
  {
   "cell_type": "code",
   "execution_count": 62,
   "metadata": {},
   "outputs": [],
   "source": [
    "# Set n_obs\n",
    "n_obs = \n",
    "\n",
    "row = get_row(df,means, )"
   ]
  },
  {
   "cell_type": "markdown",
   "metadata": {},
   "source": [
    "The extracted row contains poisson distributed numbers like in the histogram you plotted earlier. You task is to loop through the row and find the point at which you have included 90% of the numbers. "
   ]
  },
  {
   "cell_type": "code",
   "execution_count": 69,
   "metadata": {},
   "outputs": [],
   "source": [
    "# How many numbers are in the row? Find the length of the row\n",
    "\n",
    "total = \n",
    "\n",
    "# Calculate 90% of the total\n",
    "ninety_percent = \n",
    "\n",
    "count = 0\n",
    "# Loop through the row and increase the count variable by 1 at each iteration. \n",
    "# Once the count reaches 90% print the corresponding number. \n",
    "for i in row:\n",
    "    \n",
    "    \n",
    "    if ## Your condition here\n",
    "    "
   ]
  }
 ],
 "metadata": {
  "kernelspec": {
   "display_name": "Python 3",
   "language": "python",
   "name": "python3"
  },
  "language_info": {
   "codemirror_mode": {
    "name": "ipython",
    "version": 3
   },
   "file_extension": ".py",
   "mimetype": "text/x-python",
   "name": "python",
   "nbconvert_exporter": "python",
   "pygments_lexer": "ipython3",
   "version": "3.6.4"
  }
 },
 "nbformat": 4,
 "nbformat_minor": 2
}
