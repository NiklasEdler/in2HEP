{
 "cells": [
  {
   "cell_type": "markdown",
   "metadata": {},
   "source": [
    "# 1. Searching for $H\\rightarrow b\\bar{b}$\n",
    "\n",
    "One of the primary physics objectives of the Large Hadron Collider is to study the Higgs Boson and understand the process with which particles acquire mass. The Higgs Boson's decays channels along with the respective branching ratios are shown in the figure below. \n",
    "\n",
    "<img src=\"https://physicsforme.files.wordpress.com/2012/07/higgs_decay.jpg\" width=\"400\" />\n",
    "\n",
    "\n",
    "\n",
    "In 2012 the Higgs Boson was discovered in the $H\\rightarrow\\gamma\\gamma$ and $H\\rightarrow ZZ \\rightarrow 4l$. The plot below shows a clear excess of signal events over background around 125 GeV in the $H\\rightarrow ZZ \\rightarrow 4l$ 'golden channel'. \n",
    "\n",
    "<img src=\"https://3c1703fe8d.site.internapcdn.net/newman/gfx/news/hires/2017/newatlasprec.png\" width=\"400\" />\n",
    "\n",
    "\n",
    "But if the Higgs Boson predominantly decays to a pair of $b$-quarks, why wasn't it discovered in the $H\\rightarrow b\\bar{b}$ channel? \n",
    "\n",
    "The discovery channels leave a clean signature in the detector that is easy to isolate making searches in the $H\\rightarrow\\gamma\\gamma$ or $H\\rightarrow ZZ \\rightarrow 4l$ favourable. However, $H\\rightarrow b\\bar{b}$ searches aren't so straightforward!\n",
    "\n",
    "Here's why:\n",
    "\n",
    "## Large background \n",
    "\n",
    "Firstly, the $H\\rightarrow b\\bar{b}$ process at the LHC has enourmous amount of background with final states that are the same as the signal i.e. two $b$-quarks. The figure below shows the cross sections (likelihood) of a Higgs event and compared to a bb event at the LHC. In the LHC current operational energy, only around 1 in a trillion proton-proton collisions create a Higgs boson. \n",
    "\n",
    "\n",
    "<img src=\"../docs/images/lhc_cross_sections.png\" width=\"400\" />\n",
    "\n",
    "Hence, the signal can get drowned out in with the signal-like background. \n",
    "\n",
    "## Jet Production\n",
    "\n",
    "Secondly, precisely measuring and distinguishing $b$-quarks from say $c$-quarks is also challenging. When a pair of $b$-quarks is created in the ATLAS detector they go through a process known as hadronisation and form [jets](https://www.youtube.com/watch?v=FMH3T05G\\_to). The jets must be identified as originating from b-quarks (b-jets) by a process known as $b$-tagging. This extra level of complexity along with the large background makes searches for $H\\rightarrow b\\bar{b}$ challenging. "
   ]
  },
  {
   "cell_type": "markdown",
   "metadata": {},
   "source": [
    "### 1.2 The WH 1-Lepton Channel\n",
    "\n",
    "The process we will be searching for is shown in the Feynman Diagram below. A Higgs Boson is radiated off a $W^\\pm$ boson which subsequently decays to a pair of _b_-quarks. The $W^\\pm$ boson then goes on to decay into a lepton and a corresponding neutrino. \n",
    "\n",
    "<img src=\"../docs/images/one-lepton.png\" width=\"350\" />\n",
    "\n",
    "\n",
    "The final state products of a 1-lepton channel $H\\rightarrow b\\bar{b}$ process are:\n",
    "   * A Neutrino [characterised as missing transverse energy in the detector].\n",
    "   * A charged Lepton (e u) [characterised by the transverse momentum and direction].\n",
    "   * 2 _b_-jets [characterised by their transverse momentum, direction, distance between them and their reconstructed mass].\n"
   ]
  },
  {
   "cell_type": "markdown",
   "metadata": {},
   "source": [
    "### 1.3 Separating Signal from Background\n",
    "\n",
    "\n",
    "We separate ATLAS events using kinematic and topological parameters. A list of the variables that can be used in this exercise is shown below: \n",
    "\n",
    "\n",
    "\n",
    "| Variable        | Description           | Label  |\n",
    "| ------------- |:-------------:| -----:|\n",
    "|$n_J$                   | Number of jet in the event (this is always 2 in this exercise) | nJ |\n",
    "|$n_{\\text{Tags}}$       | Number of b-tagged jets in the event (this is always two in this exercise) | nTags |\n",
    "|$\\Delta R(b_1b_2)$      | Angular distance between the two *b*-tagged jets | dRBB |\n",
    "| $p_T^B1$                | Reconstructed transverse momentum of the b-tagged jet with the highest $p_{T}$                      | pTB1 |\n",
    "| $p_T^B2$                | Reconstructed transverse momentum of the b-tagged jet with the 2nd highest $p_{T}$                      | pTB2 |\n",
    "| $p_T^V$                | Reconstructed transverse momentum of the vector boson                      | pTV |\n",
    "| $m_{BB}$               | Reconstructed mass of the Higgs boson from the two b-tagged jets                     | mBB |\n",
    "| $m_{top}$              | Reconstructed top quark mass                     | Mtop |\n",
    "| $m_{T}^{W}$              | Reconstructed transverse mass of the W boson                     | mTW |\n",
    "| $E^{Miss}_{T}$         | Missing transverse energy                        | MET |\n",
    "| $m^{W}_{T}$            | Reconstructed transverse mass of the W boson                        | mTW |\n",
    "| $dY(W, H)$             | Separation between the W boson and the Higgs candidate                        | dYWH |\n",
    "| $d\\phi(W, H)$          | Angular seperationg in the transverse plane between the W boson and the Higgs candidate                        | dPhiVBB |\n",
    "| $MV1^{B1}_\\text{cont}$        | The classification output of whether the leading jet is a b or not (the higher the value the more likely it is a b-jet) | MV1cB_cont |\n",
    "| $MV1^{B2}_{\\text{cont}}$        | The classification output of whether the sub-leading jet is a b or not (the higher the value the more likely it is a b-jet) | MV1cB2_cont |\n",
    "| $n^{\\text{Jets}}_{\\text{cont}}$        | Number of additional jets found in the event | nTrackJetsOR |\n",
    "\n",
    "\n",
    "                    Table 1: Kinematic and topological paramaeters used to identify events. \n",
    "\n"
   ]
  },
  {
   "cell_type": "markdown",
   "metadata": {},
   "source": [
    "### 1.4 Tasks\n",
    "\n",
    "Baseline\n",
    "- Produce an optimised cut-based analysis using the di-jet mass as a discriminant to use as baseline and for comparison (shouldn’t spend more than 1-2 days on this). A notebook that reads in the data, visualises the various distributions and calculates the signal sensitivity is provided as a starting point here:\n",
    "\t+ https://github.com/samvanstroud/in2HEP/blob/practicalMLproject/practicalMLproject/ATLAS_Cut_Based.ipynb\n",
    "- Produce a simple optimised NN-based supervised classifier to seperate signal vs background. A notebook that reads in the data, draws the classifier output and calculates the _signal sensitivity_ is provided as a starting point here: \n",
    "\t+ https://github.com/samvanstroud/in2HEP/blob/practicalMLproject/practicalMLproject/ATLAS_NN.ipynb\n",
    "\t+ Number of nodes in layers\n",
    "\t+ Number of hidden layers\n",
    "\t+ Training parameters\n",
    "\t+ Activation functions\n",
    "\t+ Optimisation algorithms\n",
    "- Determine:\n",
    "\t+ Improvement over a cut-based approach\n",
    "\t+ If we have enough training statistics (vary number of input statistics separately for signal and background from 0 -> 100%, does it plateau?)\n",
    "\t+ The importance of the input variables (remove one variable at a time and retrain, how much does the sensitivity degrade by?)\n",
    "\n",
    "Extensions:\n",
    "- Investigate which events are selected in the most sensitive region (the high NN output region), are these similar to those selected in the cut-based approach?\n",
    "- Determine training uncertainty (how much does performance vary when re-training an identical configuration)\n",
    "- Try automated hyper-parameter optimisation (Baysien, stochastic), compare to a grid search\n",
    "- Train a multi-classifier or MVA cascade for the different backgrounds (V+bb, tt, diboson), how does this compare \n",
    "\n",
    "\n",
    "\n"
   ]
  },
  {
   "cell_type": "markdown",
   "metadata": {},
   "source": [
    "**Based upon material originally produced by hackingEducation for use in outreach**  \n",
    "<img src=\"../docs/images/logo-black.png\" width=\"50\" align = 'left'/>"
   ]
  }
 ],
 "metadata": {
  "kernelspec": {
   "display_name": "Python 3",
   "language": "python",
   "name": "python3"
  },
  "language_info": {
   "codemirror_mode": {
    "name": "ipython",
    "version": 3
   },
   "file_extension": ".py",
   "mimetype": "text/x-python",
   "name": "python",
   "nbconvert_exporter": "python",
   "pygments_lexer": "ipython3",
   "version": "3.8.3"
  }
 },
 "nbformat": 4,
 "nbformat_minor": 4
}
